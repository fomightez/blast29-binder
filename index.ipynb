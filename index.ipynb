{
 "cells": [
  {
   "cell_type": "markdown",
   "metadata": {},
   "source": [
    "# Notebooks for BLAST on Command Line and Integrating with Python\n",
    "\n",
    "My collection demonstrating useful resources on command line (or in Jupyter environment) for running BLAST+.\n",
    "\n",
    "Select a notebook from this index below to begin. The first two listed are meant to be introductory.\n",
    "\n",
    "----\n",
    "\n",
    "### Available Notebooks\n",
    "\n",
    "- [BLAST on the Command Line and Integrating with Python](notebooks/BLAST%20on%20Command%20Line%20and%20Integrating%20with%20Python.ipynb)\n",
    "- [BLAST on the Command Line with Advanced Python](notebooks/BLAST%20on%20the%20Command%20Line%20with%20Advanced%20Python.ipynb)\n",
    "- [Searching for coding sequences in genomes using BLAST and Python](notebooks/Searching%20for%20coding%20sequences%20in%20genomes%20using%20BLAST%20and%20Python.ipynb)\n"
   ]
  },
  {
   "cell_type": "code",
   "execution_count": null,
   "metadata": {},
   "outputs": [],
   "source": []
  }
 ],
 "metadata": {
  "kernelspec": {
   "display_name": "Python 3",
   "language": "python",
   "name": "python3"
  },
  "language_info": {
   "codemirror_mode": {
    "name": "ipython",
    "version": 3
   },
   "file_extension": ".py",
   "mimetype": "text/x-python",
   "name": "python",
   "nbconvert_exporter": "python",
   "pygments_lexer": "ipython3",
   "version": "3.6.7"
  }
 },
 "nbformat": 4,
 "nbformat_minor": 2
}